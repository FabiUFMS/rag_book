{
 "cells": [
  {
   "cell_type": "code",
   "execution_count": 1,
   "metadata": {},
   "outputs": [],
   "source": [
    "# lib imports\n",
    "from langchain_community.vectorstores import Chroma\n",
    "from langchain_community.chat_models import ChatOllama\n",
    "from langchain_core.runnables import RunnablePassthrough\n",
    "from langchain_core.output_parsers import StrOutputParser\n",
    "from langchain_community.embeddings import OllamaEmbeddings\n",
    "from langchain.prompts import ChatPromptTemplate, PromptTemplate\n",
    "from langchain.retrievers.multi_query import MultiQueryRetriever"
   ]
  },
  {
   "cell_type": "code",
   "execution_count": 2,
   "metadata": {},
   "outputs": [],
   "source": [
    "# load vector (saved from lg.py)\n",
    "load_vector_db=Chroma(persist_directory=\"local_rag_vector_db\",\n",
    "                      embedding_function=OllamaEmbeddings(model=\"nomic-embed-text\"),\n",
    "                      collection_name=\"local_rag_vector_db\")\n"
   ]
  },
  {
   "cell_type": "code",
   "execution_count": 3,
   "metadata": {},
   "outputs": [
    {
     "data": {
      "text/plain": [
       "[Document(metadata={'page': 3, 'source': 'chap1_fire_and_blood.pdf'}, page_content='in Westeros long predated the events that drove him to war. As well,\\nthere are reliable reports of Aegon and his sister Visenya visiting the\\nCitadel of Oldtown in their youth, and hawking on the Arbor as guests\\nof Lord Redwyne. He may have visited Lannisport as well; accounts\\ndiffer.\\nThe Westeros of Aegon’s youth was divided into seven quarrelsome\\nkingdoms, and there was hardly a time when two or three of these\\nkingdoms were not at war with one another. The vast, cold, stony\\nNorth was ruled by the Starks of Winterfell. In the deserts of Dorne,\\nthe Martell princes held sway. The gold-rich westerlands were ruled by\\nthe Lannisters of Casterly Rock, the fertile Reach by the Gardeners of\\nHighgarden. The Vale, the Fingers, and the Mountains of the Moon\\nbelonged to House Arryn…but the most belligerent kings of Aegon’s\\ntime were the two whose realms lay closest to Dragonstone, Harren\\nthe Black and Argilac the Arrogant.\\nFrom their great citadel, Storm’s End, the Storm Kings of House\\nDurrandon had once ruled the eastern half of Westeros, from Cape\\nWrath to the Bay of Crabs, but their powers had been dwindling for\\ncenturies. The Kings of the Reach had nibbled at their domains from\\nthe west, the Dornishmen harassed them from the south, and Harren\\nthe Black and his ironmen had pushed them from the Trident and the\\nlands north of the Blackwater Rush. King Argilac, last of the\\nDurrandon, had arrested this decline for a time, turning back a\\nDornish invasion whilst still a boy, crossing the narrow sea to join the\\ngreat alliance against the imperialist “tigers” of Volantis, and slaying\\nGarse VII Gardener, King of the Reach, in the Battle of Summerfield\\ntwenty years later. But Argilac had grown older; his famous mane of\\nblack hair had gone grey, and his prowess at arms had faded.\\nNorth of the Blackwater, the riverlands were ruled by the bloody\\nhand of Harren the Black of House Hoare, King of the Isles and the\\nRivers. Harren’s ironborn grandsire, Harwyn Hardhand, had taken the\\nTrident from Argilac’s grandsire, Arrec, whose own forebears had\\nthrown down the last of the river kings centuries earlier. Harren’s\\nfather had extended his domains east to Duskendale and Rosby.\\nHarren himself had devoted most of his long reign, close on forty'),\n",
       " Document(metadata={'page': 8, 'source': 'chap1_fire_and_blood.pdf'}, page_content='and knights sent up a cheer…but the smallfolk, the fishermen and\\nfieldhands and goodwives, shouted loudest of all.\\nThe seven kings that Aegon the Dragon meant to uncrown were not\\ncheering, however. In Harrenhal and Storm’s End, Harren the Black\\nand Argilac the Arrogant had already called their banners. In the west,\\nKing Mern of the Reach rode the ocean road north to Casterly Rock to\\nmeet with King Loren of House Lannister. The Princess of Dorne\\ndispatched a raven to Dragonstone, offering to join Aegon against\\nArgilac the Storm King…but as an equal and ally, not a subject.\\nAnother offer of alliance came from the boy king of the Eyrie, Ronnel\\nArryn, whose mother asked for all the lands east of the Green Fork of\\nthe Trident for the Vale’s support against Black Harren. Even in the\\nNorth, King Torrhen Stark of Winterfell sat with his lords bannermen\\nand counselors late into the night, discussing what was to be done\\nabout this would-be conqueror. The whole realm waited anxiously to\\nsee where Aegon would move next.'),\n",
       " Document(metadata={'page': 16, 'source': 'chap1_fire_and_blood.pdf'}, page_content='For a few days it was feared that Storm’s End might suffer the same\\nfate as Harrenhal, for Argilac’s daughter Argella barred her gates at\\nthe approach of Orys Baratheon and the Targaryen host, and declared\\nherself the Storm Queen. Rather than bend the knee, the defenders of\\nStorm’s End would die to the last man, she promised when Queen\\nRhaenys flew Meraxes into the castle to parley. “You may take my\\ncastle, but you will win only bones and blood and ashes,” she\\nannounced…but the soldiers of the garrison proved less eager to die.\\nThat night they raised a peace banner, threw open the castle gate, and\\ndelivered Lady Argella gagged, chained, and naked to the camp of Orys\\nBaratheon.\\nIt is said that Baratheon unchained her with his own hands,\\nwrapped his cloak around her, poured her wine, and spoke to her\\ngently, telling her of her father’s courage and the manner of his death.\\nAnd afterward, to honor the fallen king, he took the arms and words of\\nthe Durrandon for his own. The crowned stag became his sigil, Storm’s\\nEnd became his seat, and Lady Argella his wife.\\nWith both the riverlands and stormlands now under the control of\\nAegon the Dragon and his allies, the remaining kings of Westeros saw\\nplainly that their own turns were coming. At Winterfell, King Torrhen\\ncalled his banners; given the vast distances in the North, he knew that\\nassembling an army would take time. Queen Sharra of the Vale, regent\\nfor her son Ronnel, took refuge in the Eyrie, looked to her defenses,\\nand sent an army to the Bloody Gate, gateway to the Vale of Arryn. In\\nher youth Queen Sharra had been lauded as “the Flower of the\\nMountain,” the fairest maid in all the Seven Kingdoms. Perhaps\\nhoping to sway Aegon with her beauty, she sent him a portrait and\\noffered herself to him in marriage, provided he named her son Ronnel\\nas his heir. Though the portrait did finally reach him, it is not known\\nwhether Aegon Targaryen ever replied to her proposal; he had two\\nqueens already, and Sharra Arryn was by then a faded flower, ten\\nyears his elder.\\nMeanwhile, the two great western kings had made common cause\\nand assembled their own armies, intent on putting an end to Aegon for\\ngood and all. From Highgarden marched Mern IX of House Gardener,'),\n",
       " Document(metadata={'page': 2, 'source': 'chap1_fire_and_blood.pdf'}, page_content='the Targaryens ruled the skies with their dragons.\\nYet even so, for the best part of a hundred years after the Doom of\\nValyria (the rightly named Century of Blood), House Targaryen looked\\neast, not west, and took little interest in the affairs of Westeros.\\nGaemon Targaryen, brother and husband to Daenys the Dreamer,\\nfollowed Aenar the Exile as Lord of Dragonstone, and became known\\nas Gaemon the Glorious. Gaemon’s son Aegon and his daughter\\nElaena ruled together after his death. After them the lordship passed\\nto their son Maegon, his brother Aerys, and Aerys’s sons, Aelyx,\\nBaelon, and Daemion. The last of the three brothers was Daemion,\\nwhose son Aerion then succeeded to Dragonstone.\\nThe Aegon who would be known to history as Aegon the Conqueror\\nand Aegon the Dragon was born on Dragonstone in 27 BC. He was the\\nonly son, and second child, of Aerion, Lord of Dragonstone, and Lady\\nValaena of House Velaryon, herself half Targaryen on her mother’s\\nside. Aegon had two trueborn siblings; an elder sister, Visenya, and a\\nyounger sister, Rhaenys. It had long been the custom amongst the\\ndragonlords of Valyria to wed brother to sister, to keep the bloodlines\\npure, but Aegon took both his sisters to bride. By tradition, he would\\nhave been expected to wed only his older sister, Visenya; the inclusion\\nof Rhaenys as a second wife was unusual, though not without\\nprecedent. It was said by some that Aegon wed Visenya out of duty and\\nRhaenys out of desire.\\nAll three siblings had shown themselves to be dragonlords before\\nthey wed. Of the five dragons who had flown with Aenar the Exile from\\nValyria, only one survived to Aegon’s day: the great beast called\\nBalerion, the Black Dread. The dragons Vhagar and Meraxes were\\nyounger, hatched on Dragonstone itself.\\nA common myth, oft heard amongst the ignorant, claims that Aegon\\nTargaryen had never set foot upon the soil of Westeros until the day he\\nset sail to conquer it, but this cannot be truth. Years before that\\nsailing, the Painted Table had been carved and decorated at Lord\\nAegon’s command; a massive slab of wood, some fifty feet long, carved\\nin the shape of Westeros, and painted to show all the woods and rivers\\nand towns and castles of the Seven Kingdoms. Plainly, Aegon’s interest')]"
      ]
     },
     "execution_count": 3,
     "metadata": {},
     "output_type": "execute_result"
    }
   ],
   "source": [
    "# test if vector DB was loaded correctly by searching for a word \n",
    "docs = load_vector_db.similarity_search('Harwyn Hardhand')\n",
    "docs"
   ]
  },
  {
   "cell_type": "code",
   "execution_count": 4,
   "metadata": {},
   "outputs": [
    {
     "name": "stdout",
     "output_type": "stream",
     "text": [
      "NAME                   \tID          \tSIZE  \tMODIFIED     \n",
      "nomic-embed-text:latest\t0a109f422b47\t274 MB\t45 hours ago\t\n",
      "codellama:latest       \t8fdf8f752f6e\t3.8 GB\t47 hours ago\t\n",
      "llama3:latest          \t365c0bd3c000\t4.7 GB\t2 days ago  \t\n",
      "llama2:latest          \t78e26419b446\t3.8 GB\t2 days ago  \t\n"
     ]
    }
   ],
   "source": [
    "!ollama list"
   ]
  },
  {
   "cell_type": "code",
   "execution_count": 5,
   "metadata": {},
   "outputs": [],
   "source": [
    "# retriever prompt\n",
    "QUERY_PROMPT = PromptTemplate(\n",
    "    input_variables=['question'],\n",
    "    template = \"\"\"You are an AI language model assistant.\n",
    "        Your task is to answer questions about the chapters of a book.\n",
    "        Also generate a short perspective about the context of your answer based on the chapter.\n",
    "        Don't try to make up an answer, if you don't find the answer just say that you don't know.\n",
    "        Question: {question}\n",
    "        \"\"\")\n",
    "\n",
    "# RAG prompt\n",
    "template = \"\"\"Answer the question based ONLY on the following context:\n",
    "{context}\n",
    "Question: {question}\n",
    "\"\"\""
   ]
  },
  {
   "cell_type": "code",
   "execution_count": 6,
   "metadata": {},
   "outputs": [],
   "source": [
    "model = 'codellama'\n",
    "llm = ChatOllama(model=model)\n",
    "\n",
    "# retriever\n",
    "retriever = MultiQueryRetriever.from_llm(\n",
    "    load_vector_db.as_retriever(), \n",
    "    llm,\n",
    "    prompt=QUERY_PROMPT\n",
    ")\n",
    "\n",
    "# create chain\n",
    "prompt = ChatPromptTemplate.from_template(template)\n",
    "chain = (\n",
    "    {\"context\": retriever, \"question\": RunnablePassthrough()}\n",
    "    | prompt\n",
    "    | llm\n",
    "    | StrOutputParser()\n",
    ")"
   ]
  },
  {
   "cell_type": "code",
   "execution_count": 7,
   "metadata": {},
   "outputs": [
    {
     "name": "stdout",
     "output_type": "stream",
     "text": [
      "Aegon I Targaryen was the first king of House Targaryen. \n"
     ]
    }
   ],
   "source": [
    "print(chain.invoke(\"Who is Aegon I Targaryen?\"))"
   ]
  },
  {
   "cell_type": "code",
   "execution_count": 8,
   "metadata": {},
   "outputs": [
    {
     "name": "stdout",
     "output_type": "stream",
     "text": [
      " This chapter covers the events of Aegon's conquest of the Seven Kingdoms and how he became king after conquering the realm. \n"
     ]
    }
   ],
   "source": [
    "print(chain.invoke(\"What is the subject covered in this chapter?\"))"
   ]
  },
  {
   "cell_type": "code",
   "execution_count": 9,
   "metadata": {},
   "outputs": [],
   "source": [
    "model = 'llama3'\n",
    "llm = ChatOllama(model=model)\n",
    "\n",
    "# retriever\n",
    "retriever = MultiQueryRetriever.from_llm(\n",
    "    load_vector_db.as_retriever(), \n",
    "    llm,\n",
    "    prompt=QUERY_PROMPT\n",
    ")\n",
    "\n",
    "# create chain\n",
    "prompt = ChatPromptTemplate.from_template(template)\n",
    "chain = (\n",
    "    {\"context\": retriever, \"question\": RunnablePassthrough()}\n",
    "    | prompt\n",
    "    | llm\n",
    "    | StrOutputParser()\n",
    ")"
   ]
  },
  {
   "cell_type": "code",
   "execution_count": 10,
   "metadata": {},
   "outputs": [
    {
     "name": "stdout",
     "output_type": "stream",
     "text": [
      "According to the provided context, Aegon I Targaryen is a king who kept his lands and titles after conquering the Seven Kingdoms. He is also referred to as \"Aegon of House Targaryen\".\n"
     ]
    }
   ],
   "source": [
    "print(chain.invoke(\"Who is Aegon I Targaryen?\"))"
   ]
  },
  {
   "cell_type": "code",
   "execution_count": 11,
   "metadata": {},
   "outputs": [
    {
     "name": "stdout",
     "output_type": "stream",
     "text": [
      "Based on the provided context, it appears that the subject covered in this chapter is the conquest of Westeros by Aegon Targaryen and his dragons. The chapter likely describes the events surrounding Aegon's invasion of Westeros, including his battles with various lords and kings, as well as the reactions of other kingdoms and factions to his claims of power.\n"
     ]
    }
   ],
   "source": [
    "print(chain.invoke(\"What is the subject covered in this chapter?\"))"
   ]
  },
  {
   "cell_type": "code",
   "execution_count": 12,
   "metadata": {},
   "outputs": [],
   "source": [
    "load_vector_db.delete_collection()"
   ]
  }
 ],
 "metadata": {
  "kernelspec": {
   "display_name": "Python 3",
   "language": "python",
   "name": "python3"
  },
  "language_info": {
   "codemirror_mode": {
    "name": "ipython",
    "version": 3
   },
   "file_extension": ".py",
   "mimetype": "text/x-python",
   "name": "python",
   "nbconvert_exporter": "python",
   "pygments_lexer": "ipython3",
   "version": "3.12.0"
  }
 },
 "nbformat": 4,
 "nbformat_minor": 2
}
